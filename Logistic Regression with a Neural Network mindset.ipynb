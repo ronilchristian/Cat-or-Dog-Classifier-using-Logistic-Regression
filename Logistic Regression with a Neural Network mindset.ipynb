{
 "cells": [
  {
   "cell_type": "markdown",
   "id": "innocent-honey",
   "metadata": {},
   "source": [
    "You can download the dataset from [here](https://www.kaggle.com/tongpython/cat-and-dog).\n",
    "\n",
    "From the original dataset, I have selected 1500 images of each cats and dogs and put in the training_set directory. And 250 images of each in the test_set directory.\n",
    "That makes the dataset consisting of 3000 training examples and 500 test examples."
   ]
  },
  {
   "cell_type": "code",
   "execution_count": 1,
   "id": "distinct-neutral",
   "metadata": {},
   "outputs": [],
   "source": [
    "# Importing the libraries\n",
    "import os\n",
    "import cv2\n",
    "import numpy as np\n",
    "import matplotlib.pyplot as plt\n",
    "import scipy\n",
    "from PIL import Image\n",
    "from scipy import ndimage\n",
    "\n",
    "%matplotlib inline"
   ]
  },
  {
   "cell_type": "code",
   "execution_count": 2,
   "id": "loved-round",
   "metadata": {},
   "outputs": [],
   "source": [
    "ROWS = 64\n",
    "COLUMNS = 64\n",
    "CHANNELS = 3\n",
    "\n",
    "# Defining path for images\n",
    "TRAIN_DIR = 'dataset/training_set/'\n",
    "TEST_DIR = 'dataset/test_set/'\n",
    "\n",
    "# Preparing filepath from the dataset\n",
    "train_images = [TRAIN_DIR+i for i in os.listdir(TRAIN_DIR)]\n",
    "test_images = [TEST_DIR+i for i in os.listdir(TEST_DIR)]"
   ]
  },
  {
   "cell_type": "code",
   "execution_count": 3,
   "id": "saved-henry",
   "metadata": {},
   "outputs": [],
   "source": [
    "# Function to read image and convert to the specified size\n",
    "def read_image(file_path):\n",
    "    img = cv2.imread(file_path)\n",
    "    return cv2.resize(img, (ROWS, COLUMNS), cv2.INTER_CUBIC)"
   ]
  },
  {
   "cell_type": "code",
   "execution_count": 4,
   "id": "outstanding-enemy",
   "metadata": {},
   "outputs": [],
   "source": [
    "def prepare_data(images):\n",
    "    m = len(images)\n",
    "    X = np.zeros((m, ROWS, COLUMNS, CHANNELS))\n",
    "    y = np.zeros((1, m))\n",
    "    \n",
    "    for i, image_path in enumerate(images):\n",
    "        X[i,:] = read_image(image_path)\n",
    "        if 'cat' in image_path.lower():\n",
    "            y[0,i] = 0\n",
    "        elif 'dog' in image_path.lower():\n",
    "            y[0,i] = 1\n",
    "    return X, y"
   ]
  },
  {
   "cell_type": "code",
   "execution_count": 5,
   "id": "checked-cleaner",
   "metadata": {},
   "outputs": [],
   "source": [
    "# Loading the data\n",
    "train_set_X, train_set_y = prepare_data(train_images)\n",
    "test_set_X, test_set_y = prepare_data(test_images)"
   ]
  },
  {
   "cell_type": "code",
   "execution_count": 6,
   "id": "entertaining-queensland",
   "metadata": {},
   "outputs": [
    {
     "name": "stdout",
     "output_type": "stream",
     "text": [
      "Number of training examples: m_train = 3000\n",
      "Number of testing examples: m_test = 500\n",
      "Height/Width of each image: num_px = 64\n",
      "Each image is of size: (64, 64, 3)\n",
      "train_set_x shape: (3000, 64, 64, 3)\n",
      "train_set_y shape: (1, 3000)\n",
      "test_set_x shape: (500, 64, 64, 3)\n",
      "test_set_y shape: (1, 500)\n"
     ]
    }
   ],
   "source": [
    "m_train = train_set_y.shape[1]\n",
    "m_test = test_set_y.shape[1]\n",
    "num_px = train_set_X.shape[1]\n",
    "\n",
    "print (\"Number of training examples: m_train = \" + str(m_train))\n",
    "print (\"Number of testing examples: m_test = \" + str(m_test))\n",
    "print (\"Height/Width of each image: num_px = \" + str(num_px))\n",
    "print (\"Each image is of size: (\" + str(num_px) + \", \" + str(num_px) + \", 3)\")\n",
    "print (\"train_set_x shape: \" + str(train_set_X.shape))\n",
    "print (\"train_set_y shape: \" + str(train_set_y.shape))\n",
    "print (\"test_set_x shape: \" + str(test_set_X.shape))\n",
    "print (\"test_set_y shape: \" + str(test_set_y.shape))"
   ]
  },
  {
   "cell_type": "code",
   "execution_count": 7,
   "id": "unnecessary-phase",
   "metadata": {},
   "outputs": [
    {
     "name": "stdout",
     "output_type": "stream",
     "text": [
      "train_set_x_flatten shape: (12288, 3000)\n",
      "train_set_y shape: (1, 3000)\n",
      "test_set_x_flatten shape: (12288, 500)\n",
      "test_set_y shape: (1, 500)\n"
     ]
    }
   ],
   "source": [
    "# Flattening the images in the dataset\n",
    "train_set_X_flatten = train_set_X.reshape(train_set_X.shape[0], -1).T\n",
    "test_set_X_flatten = test_set_X.reshape(test_set_X.shape[0], -1).T\n",
    "\n",
    "print (\"train_set_x_flatten shape: \" + str(train_set_X_flatten.shape))\n",
    "print (\"train_set_y shape: \" + str(train_set_y.shape))\n",
    "print (\"test_set_x_flatten shape: \" + str(test_set_X_flatten.shape))\n",
    "print (\"test_set_y shape: \" + str(test_set_y.shape))"
   ]
  },
  {
   "cell_type": "code",
   "execution_count": 8,
   "id": "strong-mississippi",
   "metadata": {},
   "outputs": [],
   "source": [
    "# Standardizing the dataset\n",
    "train_set_X = train_set_X_flatten / 255.\n",
    "test_set_X = test_set_X_flatten / 255."
   ]
  },
  {
   "cell_type": "markdown",
   "id": "interstate-oxide",
   "metadata": {},
   "source": [
    "## Building the parts of our algorithm\n",
    "The main steps for building a Neural Network are:\n",
    "\n",
    "1. Define the model structure (such as number of input features)\n",
    "2. Initialize the model's parameters\n",
    "3. Loop:\n",
    "    * Calculate current loss (forward propagation)\n",
    "    * Calculate current gradient (backward propagation)\n",
    "    * Update parameters (gradient descent)"
   ]
  },
  {
   "cell_type": "markdown",
   "id": "close-belief",
   "metadata": {},
   "source": [
    "### Helper Functions"
   ]
  },
  {
   "cell_type": "markdown",
   "id": "voluntary-prevention",
   "metadata": {},
   "source": [
    "#### 1. Sigmoid\n",
    "Compute the sigmoid of z"
   ]
  },
  {
   "cell_type": "code",
   "execution_count": 9,
   "id": "indirect-calculator",
   "metadata": {},
   "outputs": [],
   "source": [
    "def sigmoid(z):\n",
    "    return 1 / (1 + np.exp(-z))"
   ]
  },
  {
   "cell_type": "code",
   "execution_count": 10,
   "id": "ideal-testing",
   "metadata": {},
   "outputs": [
    {
     "name": "stdout",
     "output_type": "stream",
     "text": [
      "sigmoid(0) = 0.5\n",
      "sigmoid(9.2) = 0.9998989708060922\n"
     ]
    }
   ],
   "source": [
    "print (\"sigmoid(0) = \" + str(sigmoid(0)))\n",
    "print (\"sigmoid(9.2) = \" + str(sigmoid(9.2)))"
   ]
  },
  {
   "cell_type": "markdown",
   "id": "psychological-bottom",
   "metadata": {},
   "source": [
    "#### 2. Initializing parameters\n",
    "Using He initialization. This initializes the weights to random values scaled according to a paper by He et al., 2015."
   ]
  },
  {
   "cell_type": "code",
   "execution_count": 11,
   "id": "bronze-nigeria",
   "metadata": {},
   "outputs": [],
   "source": [
    "def initialize_with_zeros(dim):\n",
    "    w = np.zeros((dim, 1))\n",
    "    b = 0\n",
    "    \n",
    "    assert(w.shape == (dim, 1))\n",
    "    assert(isinstance(b, float) or isinstance(b, int))\n",
    "    \n",
    "    return w, b"
   ]
  },
  {
   "cell_type": "code",
   "execution_count": 12,
   "id": "mineral-denver",
   "metadata": {},
   "outputs": [
    {
     "name": "stdout",
     "output_type": "stream",
     "text": [
      "w = [[0.]\n",
      " [0.]]\n",
      "b = 0\n"
     ]
    }
   ],
   "source": [
    "dim = 2\n",
    "w, b = initialize_with_zeros(dim)\n",
    "print (\"w = \" + str(w))\n",
    "print (\"b = \" + str(b))"
   ]
  },
  {
   "cell_type": "markdown",
   "id": "legendary-grill",
   "metadata": {},
   "source": [
    "#### 3. Forward and Backward propagation\n",
    "Implement the cost function and its gradient"
   ]
  },
  {
   "cell_type": "code",
   "execution_count": 13,
   "id": "spread-chicago",
   "metadata": {},
   "outputs": [],
   "source": [
    "def propagate(w, b, X, Y):\n",
    "    m = X.shape[1]\n",
    "    \n",
    "    # FORWARD PROPAGATION\n",
    "    # compute activation\n",
    "    z = np.dot(w.T, X) + b\n",
    "    A = sigmoid(z)\n",
    "    # compute cost\n",
    "    cost = (- 1 / m) * np.sum(Y * np.log(A) + (1 - Y) * (np.log(1 - A)))\n",
    "    \n",
    "    # BACKWARD PROPAGATION\n",
    "    dw = (1 / m) * np.dot(X, (A - Y).T)\n",
    "    db = (1 / m) * np.sum(A - Y)\n",
    "    \n",
    "    assert(dw.shape == w.shape)\n",
    "    assert(db.dtype == float)\n",
    "    cost = np.squeeze(cost)\n",
    "    assert(cost.shape == ())\n",
    "    \n",
    "    grads = {\"dw\": dw,\n",
    "             \"db\": db}\n",
    "    \n",
    "    return grads, cost"
   ]
  },
  {
   "cell_type": "code",
   "execution_count": 14,
   "id": "spare-history",
   "metadata": {},
   "outputs": [
    {
     "name": "stdout",
     "output_type": "stream",
     "text": [
      "dw = [[0.99993216]\n",
      " [1.99980262]]\n",
      "db = 0.49993523062470574\n",
      "cost = 6.000064773192205\n"
     ]
    }
   ],
   "source": [
    "w, b, X, Y = np.array([[1], [2]]), 2, np.array([[1,2], [3,4]]), np.array([[1, 0]])\n",
    "grads, cost = propagate(w, b, X, Y)\n",
    "print (\"dw = \" + str(grads[\"dw\"]))\n",
    "print (\"db = \" + str(grads[\"db\"]))\n",
    "print (\"cost = \" + str(cost))"
   ]
  },
  {
   "cell_type": "markdown",
   "id": "loved-explorer",
   "metadata": {},
   "source": [
    "#### 4. Optimization\n",
    "This function optimizes w and b by running a gradient descent algorithm"
   ]
  },
  {
   "cell_type": "code",
   "execution_count": 15,
   "id": "consistent-closing",
   "metadata": {},
   "outputs": [],
   "source": [
    "def optimize(w, b, X, Y, num_iterations, learning_rate, print_cost = False):\n",
    "    costs = []\n",
    "    \n",
    "    for i in range(num_iterations):\n",
    "        # Cost and gradient calculation\n",
    "        grads, cost = propagate(w, b, X, Y)\n",
    "        \n",
    "        # Retrieve derivatives from grads\n",
    "        dw = grads[\"dw\"]\n",
    "        db = grads[\"db\"]\n",
    "        \n",
    "        # update rule\n",
    "        w = w - learning_rate * dw\n",
    "        b = b - learning_rate * db\n",
    "        \n",
    "        # Record the costs\n",
    "        if i % 100 == 0:\n",
    "            costs.append(cost)\n",
    "            \n",
    "        # Print the cost every training examples\n",
    "        if print_cost and i % 100 == 0:\n",
    "            print(\"Cost after iteration %i: %f\" % (i, cost))\n",
    "            \n",
    "    params = {\"w\": w,\n",
    "              \"b\": b}\n",
    "    \n",
    "    grads = {\"dw\": dw,\n",
    "             \"db\": db}\n",
    "    \n",
    "    return params, grads, costs"
   ]
  },
  {
   "cell_type": "code",
   "execution_count": 16,
   "id": "stone-rouge",
   "metadata": {},
   "outputs": [
    {
     "name": "stdout",
     "output_type": "stream",
     "text": [
      "w = [[0.1124579 ]\n",
      " [0.23106775]]\n",
      "b = 1.5593049248448891\n",
      "dw = [[0.90158428]\n",
      " [1.76250842]]\n",
      "db = 0.4304620716786828\n"
     ]
    }
   ],
   "source": [
    "params, grads, costs = optimize(w, b, X, Y, num_iterations= 100, learning_rate = 0.009, print_cost = False)\n",
    "\n",
    "print (\"w = \" + str(params[\"w\"]))\n",
    "print (\"b = \" + str(params[\"b\"]))\n",
    "print (\"dw = \" + str(grads[\"dw\"]))\n",
    "print (\"db = \" + str(grads[\"db\"]))"
   ]
  },
  {
   "cell_type": "markdown",
   "id": "careful-enhancement",
   "metadata": {},
   "source": [
    "### Implementing the predict() function\n",
    "1. Calculate y_hat.\n",
    "2. Convert the entries of A into 0 (if activation <= 0.5) or 1 (if activation > 0.5). Store the predictions in a vector y_prediction."
   ]
  },
  {
   "cell_type": "code",
   "execution_count": 17,
   "id": "unique-actress",
   "metadata": {},
   "outputs": [],
   "source": [
    "def predict(w, b, X):\n",
    "    m = X.shape[1]\n",
    "    Y_prediction = np.zeros((1, m))\n",
    "    w = w.reshape(X.shape[0], 1)\n",
    "    \n",
    "    # Compute vector \"A\" predicting the probabilities\n",
    "    A = sigmoid(np.dot(w.T, X) + b)\n",
    "    \n",
    "    for i in range(A.shape[1]):\n",
    "        # Convert probabilities a[0,1] to actual predictions p[0,i]\n",
    "        Y_prediction[0, i] = 1 if A[0, i] > 0.5 else 0\n",
    "    \n",
    "    assert(Y_prediction.shape == (1, m))\n",
    "                   \n",
    "    return Y_prediction"
   ]
  },
  {
   "cell_type": "code",
   "execution_count": 18,
   "id": "laughing-secretariat",
   "metadata": {},
   "outputs": [
    {
     "name": "stdout",
     "output_type": "stream",
     "text": [
      "predictions = [[1. 1.]]\n"
     ]
    }
   ],
   "source": [
    "print(\"predictions = \" + str(predict(w, b, X)))"
   ]
  },
  {
   "cell_type": "markdown",
   "id": "macro-giving",
   "metadata": {},
   "source": [
    "### Merging all functions into a model"
   ]
  },
  {
   "cell_type": "code",
   "execution_count": 19,
   "id": "tight-female",
   "metadata": {},
   "outputs": [],
   "source": [
    "def model(X_train, Y_train, X_test, Y_test, num_iterations = 2000, learning_rate = 0.5, print_cost = False):\n",
    "    \n",
    "    # initialize parameters with zeros\n",
    "    w, b = initialize_with_zeros(X_train.shape[0])\n",
    "    \n",
    "    # Gradient descent\n",
    "    parameters, grads, costs = optimize(w, b, X_train, Y_train, num_iterations, learning_rate, print_cost)\n",
    "    \n",
    "    # Retrieve parameters w and b from dictionary \"parameters\"\n",
    "    w = parameters[\"w\"]\n",
    "    b = parameters[\"b\"]\n",
    "    \n",
    "    # Predict test/train set examples\n",
    "    Y_prediction_test = predict(w, b, X_test)\n",
    "    Y_prediction_train = predict(w, b, X_train)\n",
    "    \n",
    "    # Print train/test errors\n",
    "    print(\"train accuracy: {} %\".format(100 - np.mean(np.abs(Y_prediction_train - Y_train)) * 100))\n",
    "    print(\"test accuracy: {} %\".format(100 - np.mean(np.abs(Y_prediction_test - Y_test)) * 100))\n",
    "    \n",
    "    d = {\"costs\": costs,\n",
    "         \"Y_prediction_test\": Y_prediction_test, \n",
    "         \"Y_prediction_train\" : Y_prediction_train, \n",
    "         \"w\" : w, \n",
    "         \"b\" : b,\n",
    "         \"learning_rate\" : learning_rate,\n",
    "         \"num_iterations\": num_iterations}\n",
    "    \n",
    "    return d"
   ]
  },
  {
   "cell_type": "code",
   "execution_count": 20,
   "id": "useful-mechanism",
   "metadata": {},
   "outputs": [
    {
     "name": "stdout",
     "output_type": "stream",
     "text": [
      "Cost after iteration 0: 0.693147\n",
      "Cost after iteration 100: 0.685272\n",
      "Cost after iteration 200: 0.680237\n",
      "Cost after iteration 300: 0.676365\n",
      "Cost after iteration 400: 0.673169\n",
      "Cost after iteration 500: 0.670421\n",
      "Cost after iteration 600: 0.667994\n",
      "Cost after iteration 700: 0.665805\n",
      "Cost after iteration 800: 0.663804\n",
      "Cost after iteration 900: 0.661953\n",
      "Cost after iteration 1000: 0.660227\n",
      "Cost after iteration 1100: 0.658605\n",
      "Cost after iteration 1200: 0.657074\n",
      "Cost after iteration 1300: 0.655620\n",
      "Cost after iteration 1400: 0.654236\n",
      "Cost after iteration 1500: 0.652912\n",
      "Cost after iteration 1600: 0.651642\n",
      "Cost after iteration 1700: 0.650420\n",
      "Cost after iteration 1800: 0.649243\n",
      "Cost after iteration 1900: 0.648104\n",
      "train accuracy: 64.53333333333333 %\n",
      "test accuracy: 61.6 %\n"
     ]
    }
   ],
   "source": [
    "d = model(train_set_X, train_set_y, test_set_X, test_set_y, num_iterations = 2000, learning_rate = 0.0005, print_cost = True)"
   ]
  },
  {
   "cell_type": "code",
   "execution_count": 21,
   "id": "framed-floating",
   "metadata": {},
   "outputs": [
    {
     "data": {
      "image/png": "[encoded data removed]",
      "text/plain": [
       "<Figure size 432x288 with 1 Axes>"
      ]
     },
     "metadata": {
      "needs_background": "light"
     },
     "output_type": "display_data"
    }
   ],
   "source": [
    "# Plot learning curve (with costs)\n",
    "costs = np.squeeze(d['costs'])\n",
    "plt.plot(costs)\n",
    "plt.ylabel('cost')\n",
    "plt.xlabel('iterations (per hundreds)')\n",
    "plt.title(\"Learning rate =\" + str(d[\"learning_rate\"]))\n",
    "plt.show()"
   ]
  },
  {
   "cell_type": "markdown",
   "id": "aggregate-purple",
   "metadata": {},
   "source": [
    "### Testing with our own image"
   ]
  },
  {
   "cell_type": "code",
   "execution_count": 22,
   "id": "insured-pendant",
   "metadata": {},
   "outputs": [
    {
     "name": "stdout",
     "output_type": "stream",
     "text": [
      "0.0\n"
     ]
    }
   ],
   "source": [
    "img_path = 'single_prediction/img1.jpg'\n",
    "\n",
    "# Preprocessing image to fit our algorithm\n",
    "my_img = read_image(img_path).reshape(1, ROWS*COLUMNS*CHANNELS).T\n",
    "pred_img = predict(d[\"w\"], d[\"b\"], my_img)\n",
    "\n",
    "# Printing the prediction. 0 for cat and 1 for dog.\n",
    "print(np.squeeze(pred_img))"
   ]
  },
  {
   "cell_type": "markdown",
   "id": "heavy-belfast",
   "metadata": {},
   "source": [
    "### Evaluating the model with different learning rates"
   ]
  },
  {
   "cell_type": "code",
   "execution_count": 23,
   "id": "affiliated-hardwood",
   "metadata": {},
   "outputs": [
    {
     "name": "stdout",
     "output_type": "stream",
     "text": [
      "learning rate is: 0.01\n",
      "train accuracy: 55.16666666666667 %\n",
      "test accuracy: 54.199999999999996 %\n",
      "\n",
      "-------------------------------------------------------\n",
      "\n",
      "learning rate is: 0.001\n",
      "train accuracy: 67.0 %\n",
      "test accuracy: 58.6 %\n",
      "\n",
      "-------------------------------------------------------\n",
      "\n",
      "learning rate is: 0.0005\n",
      "train accuracy: 64.53333333333333 %\n",
      "test accuracy: 61.6 %\n",
      "\n",
      "-------------------------------------------------------\n",
      "\n",
      "learning rate is: 0.0003\n",
      "train accuracy: 63.0 %\n",
      "test accuracy: 60.8 %\n",
      "\n",
      "-------------------------------------------------------\n",
      "\n",
      "learning rate is: 0.0001\n",
      "train accuracy: 60.66666666666667 %\n",
      "test accuracy: 58.800000000000004 %\n",
      "\n",
      "-------------------------------------------------------\n",
      "\n"
     ]
    },
    {
     "data": {
      "image/png": "[encoded data removed]",
      "text/plain": [
       "<Figure size 432x288 with 1 Axes>"
      ]
     },
     "metadata": {
      "needs_background": "light"
     },
     "output_type": "display_data"
    }
   ],
   "source": [
    "learning_rates = [0.01, 0.001, 0.0005, 0.0003, 0.0001]\n",
    "models = {}\n",
    "for i in learning_rates:\n",
    "    print (\"learning rate is: \" + str(i))\n",
    "    models[str(i)] = model(train_set_X, train_set_y, test_set_X, test_set_y, num_iterations = 2000, learning_rate = i, print_cost = False)\n",
    "    print ('\\n' + \"-------------------------------------------------------\" + '\\n')\n",
    "\n",
    "for i in learning_rates:\n",
    "    plt.plot(np.squeeze(models[str(i)][\"costs\"]), label= str(models[str(i)][\"learning_rate\"]))\n",
    "\n",
    "plt.ylabel('cost')\n",
    "plt.xlabel('iterations')\n",
    "\n",
    "legend = plt.legend(loc='upper center', shadow=True)\n",
    "frame = legend.get_frame()\n",
    "frame.set_facecolor('0.90')\n",
    "plt.show()"
   ]
  },
  {
   "cell_type": "code",
   "execution_count": null,
   "id": "irish-still",
   "metadata": {},
   "outputs": [],
   "source": []
  }
 ],
 "metadata": {
  "kernelspec": {
   "display_name": "Python 3",
   "language": "python",
   "name": "python3"
  },
  "language_info": {
   "codemirror_mode": {
    "name": "ipython",
    "version": 3
   },
   "file_extension": ".py",
   "mimetype": "text/x-python",
   "name": "python",
   "nbconvert_exporter": "python",
   "pygments_lexer": "ipython3",
   "version": "3.8.5"
  }
 },
 "nbformat": 4,
 "nbformat_minor": 5
}
